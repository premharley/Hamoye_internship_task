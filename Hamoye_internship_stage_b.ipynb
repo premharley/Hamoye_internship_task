{
  "nbformat": 4,
  "nbformat_minor": 0,
  "metadata": {
    "colab": {
      "provenance": [],
      "authorship_tag": "ABX9TyNNun7PBLV3aJDdAasVvR1S",
      "include_colab_link": true
    },
    "kernelspec": {
      "name": "python3",
      "display_name": "Python 3"
    },
    "language_info": {
      "name": "python"
    }
  },
  "cells": [
    {
      "cell_type": "markdown",
      "metadata": {
        "id": "view-in-github",
        "colab_type": "text"
      },
      "source": [
        "<a href=\"https://colab.research.google.com/github/premharley/Hamoye_internship_task/blob/main/Hamoye_internship_stage_b.ipynb\" target=\"_parent\"><img src=\"https://colab.research.google.com/assets/colab-badge.svg\" alt=\"Open In Colab\"/></a>"
      ]
    },
    {
      "cell_type": "code",
      "execution_count": 13,
      "metadata": {
        "id": "ItYc8x3psUoI"
      },
      "outputs": [],
      "source": [
        "import pandas as pd\n",
        "import numpy as np\n",
        "df=pd.read_csv(r'/energydata_complete.csv')"
      ]
    },
    {
      "cell_type": "code",
      "source": [
        "df.shape"
      ],
      "metadata": {
        "colab": {
          "base_uri": "https://localhost:8080/"
        },
        "id": "vx09cJgGscTV",
        "outputId": "2a7cd7c6-80e5-43dd-d5c6-3af84eb7adbb"
      },
      "execution_count": null,
      "outputs": [
        {
          "output_type": "execute_result",
          "data": {
            "text/plain": [
              "(19735, 29)"
            ]
          },
          "metadata": {},
          "execution_count": 2
        }
      ]
    },
    {
      "cell_type": "code",
      "source": [
        "df.info()"
      ],
      "metadata": {
        "colab": {
          "base_uri": "https://localhost:8080/"
        },
        "id": "Axww8K__scVg",
        "outputId": "609dea13-532b-45ea-b463-4201b7d6d0cc"
      },
      "execution_count": null,
      "outputs": [
        {
          "output_type": "stream",
          "name": "stdout",
          "text": [
            "<class 'pandas.core.frame.DataFrame'>\n",
            "RangeIndex: 19735 entries, 0 to 19734\n",
            "Data columns (total 29 columns):\n",
            " #   Column       Non-Null Count  Dtype  \n",
            "---  ------       --------------  -----  \n",
            " 0   date         19735 non-null  object \n",
            " 1   Appliances   19735 non-null  int64  \n",
            " 2   lights       19735 non-null  int64  \n",
            " 3   T1           19735 non-null  float64\n",
            " 4   RH_1         19735 non-null  float64\n",
            " 5   T2           19735 non-null  float64\n",
            " 6   RH_2         19735 non-null  float64\n",
            " 7   T3           19735 non-null  float64\n",
            " 8   RH_3         19735 non-null  float64\n",
            " 9   T4           19735 non-null  float64\n",
            " 10  RH_4         19735 non-null  float64\n",
            " 11  T5           19735 non-null  float64\n",
            " 12  RH_5         19735 non-null  float64\n",
            " 13  T6           19735 non-null  float64\n",
            " 14  RH_6         19735 non-null  float64\n",
            " 15  T7           19735 non-null  float64\n",
            " 16  RH_7         19735 non-null  float64\n",
            " 17  T8           19735 non-null  float64\n",
            " 18  RH_8         19735 non-null  float64\n",
            " 19  T9           19735 non-null  float64\n",
            " 20  RH_9         19735 non-null  float64\n",
            " 21  T_out        19735 non-null  float64\n",
            " 22  Press_mm_hg  19735 non-null  float64\n",
            " 23  RH_out       19735 non-null  float64\n",
            " 24  Windspeed    19735 non-null  float64\n",
            " 25  Visibility   19735 non-null  float64\n",
            " 26  Tdewpoint    19735 non-null  float64\n",
            " 27  rv1          19735 non-null  float64\n",
            " 28  rv2          19735 non-null  float64\n",
            "dtypes: float64(26), int64(2), object(1)\n",
            "memory usage: 4.4+ MB\n"
          ]
        }
      ]
    },
    {
      "cell_type": "code",
      "source": [],
      "metadata": {
        "id": "_JRpcOQ6scXo"
      },
      "execution_count": 4,
      "outputs": []
    },
    {
      "cell_type": "code",
      "source": [
        "#Question 17\n",
        "from sklearn.model_selection import train_test_split\n",
        "from sklearn.linear_model import LinearRegression\n",
        "from sklearn.metrics import mean_squared_error\n",
        "#load dataset\n",
        "df=pd.read_csv(r'/energydata_complete.csv')\n",
        "\n",
        "#Split the dataset into features and target variable\n",
        "x=df[['T2']]\n",
        "y=df['T6']\n",
        "#split the dataset into training and Test sets\n",
        "x_train,x_test,y_train,y_test=train_test_split(x,y,test_size=0.2,random_state=42)\n",
        "\n",
        "#model training\n",
        "model=LinearRegression()\n",
        "model.fit(x_train,y_train)\n",
        "\n",
        "#predictions\n",
        "y_pred=model.predict(x_test)\n",
        "\n",
        "#calculating RMSE\n",
        "error=np.sqrt(mean_squared_error(y_test,y_pred))\n",
        "print(\"ROOT MEAN SQUARE ERROR : {:.3f}\".format(error))\n"
      ],
      "metadata": {
        "id": "xD5Ad7MoxYhM",
        "colab": {
          "base_uri": "https://localhost:8080/"
        },
        "outputId": "5b816c1a-0398-4ecd-f915-1419a31c964e"
      },
      "execution_count": 17,
      "outputs": [
        {
          "output_type": "stream",
          "name": "stdout",
          "text": [
            "ROOT MEAN SQUARE ERROR : 3.633\n"
          ]
        }
      ]
    },
    {
      "cell_type": "code",
      "source": [
        "#Question 18\n",
        "\n",
        "import pandas as pd\n",
        "from sklearn.model_selection import train_test_split\n",
        "from sklearn.preprocessing import MinMaxScaler\n",
        "from sklearn.linear_model import LinearRegression\n",
        "from sklearn.metrics import mean_absolute_error\n",
        "\n",
        "#load dataset\n",
        "df=pd.read_csv(r'/energydata_complete.csv')\n",
        "\n",
        "# Remove the specified columns\n",
        "columns_to_remove = [\"date\", \"lights\"]\n",
        "df = df.drop(columns=columns_to_remove)\n",
        "\n",
        "# split features  and target variable\n",
        "features = df.drop(columns=[\"Appliances\"])\n",
        "target = df[\"Appliances\"]\n",
        "\n",
        "# Split the dataset into train and test sets\n",
        "X_train, X_test, y_train, y_test = train_test_split(features, target, test_size=0.3, random_state=42)\n",
        "\n",
        "# Normalize the dataset using MinMaxScaler\n",
        "scaler = MinMaxScaler()\n",
        "X_train_scaled = scaler.fit_transform(X_train)\n",
        "X_test_scaled = scaler.transform(X_test)\n",
        "\n",
        "# model training\n",
        "model = LinearRegression()\n",
        "model.fit(X_train_scaled, y_train)\n",
        "\n",
        "\n",
        "y_train_pred = model.predict(X_train_scaled)\n",
        "\n",
        "# Calculate Mean Absolute Error (MAE) for the train set\n",
        "mae_train = mean_absolute_error(y_train, y_train_pred)\n",
        "\n",
        "# Print the Mean Absolute Error for the train set\n",
        "print(\"Mean Absolute Error (training set): {:.3f}\".format(mae_train))"
      ],
      "metadata": {
        "colab": {
          "base_uri": "https://localhost:8080/"
        },
        "id": "lwtZgSZx7LpS",
        "outputId": "b750d79c-d0fd-4eea-f5ae-2145abb6acef"
      },
      "execution_count": 19,
      "outputs": [
        {
          "output_type": "stream",
          "name": "stdout",
          "text": [
            "Mean Absolute Error (training set): 53.742\n"
          ]
        }
      ]
    },
    {
      "cell_type": "code",
      "source": [
        "#Question 19\n",
        "\n",
        "import pandas as pd\n",
        "from sklearn.model_selection import train_test_split\n",
        "from sklearn.preprocessing import MinMaxScaler\n",
        "from sklearn.linear_model import LinearRegression\n",
        "from sklearn.metrics import mean_squared_error\n",
        "import numpy as np\n",
        "\n",
        "#load dataset\n",
        "df=pd.read_csv(r'/energydata_complete.csv')\n",
        "\n",
        "# Remove the specified columns\n",
        "drop_columns = [\"date\", \"lights\"]\n",
        "df = df.drop(columns=drop_columns)\n",
        "\n",
        "# split features and target variable\n",
        "features = df.drop(columns=[\"Appliances\"])\n",
        "target = df[\"Appliances\"]\n",
        "\n",
        "# Split the dataset into training and testing sets\n",
        "X_train, X_test, y_train, y_test = train_test_split(features, target, test_size=0.3, random_state=42)\n",
        "\n",
        "# Normalize the dataset using MinMaxScaler\n",
        "scaler = MinMaxScaler()\n",
        "X_train_scaled = scaler.fit_transform(X_train)\n",
        "X_test_scaled = scaler.transform(X_test)\n",
        "\n",
        "# model training\n",
        "model = LinearRegression()\n",
        "model.fit(X_train_scaled, y_train)\n",
        "\n",
        "# Predict on the training set\n",
        "y_train_pred = model.predict(X_train_scaled)\n",
        "\n",
        "# Calculate Root Mean Squared Error (RMSE) for the training set\n",
        "rmse_train = np.sqrt(mean_squared_error(y_train, y_train_pred))\n",
        "\n",
        "# Print the RMSE for the training set\n",
        "print(\"Root Mean Squared Error (training set): {:.3f}\".format(rmse_train))"
      ],
      "metadata": {
        "id": "P__VJzlmxYkl",
        "colab": {
          "base_uri": "https://localhost:8080/"
        },
        "outputId": "b69ca4c1-4e99-4be3-a794-a739f3a5bc9c"
      },
      "execution_count": 20,
      "outputs": [
        {
          "output_type": "stream",
          "name": "stdout",
          "text": [
            "Root Mean Squared Error (training set): 95.216\n"
          ]
        }
      ]
    },
    {
      "cell_type": "code",
      "source": [
        "#question 20\n",
        "import pandas as pd\n",
        "from sklearn.model_selection import train_test_split\n",
        "from sklearn.preprocessing import MinMaxScaler\n",
        "from sklearn.linear_model import LinearRegression\n",
        "from sklearn.metrics import mean_absolute_error\n",
        "\n",
        "# Load  dataset\n",
        "df=pd.read_csv(r'/energydata_complete.csv')\n",
        "\n",
        "# Remove the specified columns\n",
        "drop_columns = [\"date\", \"lights\"]\n",
        "df = df.drop(columns=drop_columns)\n",
        "\n",
        "# split features and target\n",
        "features = df.drop(columns=[\"Appliances\"])\n",
        "target = df[\"Appliances\"]\n",
        "\n",
        "# Split the dataset into train and test sets\n",
        "X_train, X_test, y_train, y_test = train_test_split(features, target, test_size=0.3, random_state=42)\n",
        "\n",
        "# Normalize the dataset using MinMaxScaler\n",
        "scaler = MinMaxScaler()\n",
        "X_train_scaled = scaler.fit_transform(X_train)\n",
        "X_test_scaled = scaler.transform(X_test)\n",
        "\n",
        "# model training\n",
        "model = LinearRegression()\n",
        "model.fit(X_train_scaled, y_train)\n",
        "\n",
        "# Predict on the test set\n",
        "y_test_pred = model.predict(X_test_scaled)\n",
        "\n",
        "# Calculate Mean Absolute Error (MAE) for the test set\n",
        "mae_test = mean_absolute_error(y_test, y_test_pred)\n",
        "\n",
        "# Print the MAE for the test set\n",
        "print(\"Mean Absolute Error (test set): {:.3f}\".format(mae_test))\n"
      ],
      "metadata": {
        "id": "MUqTY2XnscZD",
        "colab": {
          "base_uri": "https://localhost:8080/"
        },
        "outputId": "c9e1e4d1-b3a6-4142-b41a-a1a09433bd1e"
      },
      "execution_count": 21,
      "outputs": [
        {
          "output_type": "stream",
          "name": "stdout",
          "text": [
            "Mean Absolute Error (test set): 53.643\n"
          ]
        }
      ]
    },
    {
      "cell_type": "code",
      "source": [
        "#Question 21\n",
        "\n",
        "import pandas as pd\n",
        "from sklearn.model_selection import train_test_split\n",
        "from sklearn.preprocessing import MinMaxScaler\n",
        "from sklearn.linear_model import LinearRegression\n",
        "from sklearn.metrics import mean_squared_error\n",
        "import numpy as np\n",
        "\n",
        "# Load dataset\n",
        "df=pd.read_csv(r'/energydata_complete.csv')\n",
        "\n",
        "# Remove the specified columns\n",
        "drop_columns = [\"date\", \"lights\"]\n",
        "df = df.drop(columns=drop_columns)\n",
        "\n",
        "#split data into feature and target\n",
        "features = df.drop(columns=[\"Appliances\"])\n",
        "target = df[\"Appliances\"]\n",
        "\n",
        "# Split the dataset into train and test sets\n",
        "X_train, X_test, y_train, y_test = train_test_split(features, target, test_size=0.3, random_state=42)\n",
        "\n",
        "# Normalize the dataset using MinMaxScaler\n",
        "scaler = MinMaxScaler()\n",
        "X_train_scaled = scaler.fit_transform(X_train)\n",
        "X_test_scaled = scaler.transform(X_test)\n",
        "\n",
        "# Fit a linear regression model on the training set\n",
        "model = LinearRegression()\n",
        "model.fit(X_train_scaled, y_train)\n",
        "\n",
        "# Predicting on the test set\n",
        "y_test_pred = model.predict(X_test_scaled)\n",
        "\n",
        "# Calculate Root Mean Squared Error (RMSE) for the test set\n",
        "rmse_test = np.sqrt(mean_squared_error(y_test, y_test_pred))\n",
        "\n",
        "# The RMSE for the test set\n",
        "print(\"Root Mean Squared Error (test set): {:.3f}\".format(rmse_test))"
      ],
      "metadata": {
        "id": "0zfNaQkgsccU",
        "colab": {
          "base_uri": "https://localhost:8080/"
        },
        "outputId": "32fa479b-1929-4859-dd21-c95d75b95bba"
      },
      "execution_count": 22,
      "outputs": [
        {
          "output_type": "stream",
          "name": "stdout",
          "text": [
            "Root Mean Squared Error (test set): 93.640\n"
          ]
        }
      ]
    },
    {
      "cell_type": "code",
      "source": [
        "#Question 22\n",
        "\n",
        "import pandas as pd\n",
        "from sklearn.model_selection import train_test_split\n",
        "from sklearn.preprocessing import MinMaxScaler\n",
        "from sklearn.linear_model import LinearRegression\n",
        "from sklearn.metrics import mean_squared_error\n",
        "import numpy as np\n",
        "\n",
        "# Load dataset\n",
        "df=pd.read_csv(r'/energydata_complete.csv')\n",
        "\n",
        "# Remove the specified columns\n",
        "drop_columns = [\"date\", \"lights\"]\n",
        "df = df.drop(columns=drop_columns)\n",
        "\n",
        "# split datset into features and target\n",
        "features = df.drop(columns=[\"Appliances\"])\n",
        "target = df[\"Appliances\"]\n",
        "\n",
        "# Split the dataset into train and test sets\n",
        "X_train, X_test, y_train, y_test = train_test_split(features, target, test_size=0.3, random_state=42)\n",
        "\n",
        "# Normalize the dataset using MinMaxScaler\n",
        "scaler = MinMaxScaler()\n",
        "X_train_scaled = scaler.fit_transform(X_train)\n",
        "X_test_scaled = scaler.transform(X_test)\n",
        "\n",
        "# Fit a linear regression model on the training set\n",
        "model = LinearRegression()\n",
        "model.fit(X_train_scaled, y_train)\n",
        "\n",
        "# Predict on the training set\n",
        "y_train_pred = model.predict(X_train_scaled)\n",
        "\n",
        "# Calculate Root Mean Squared Error (RMSE) for the training set\n",
        "rmse_train = np.sqrt(mean_squared_error(y_train, y_train_pred))\n",
        "\n",
        "# Print the RMSE for the training set\n",
        "print(\"Root Mean Squared Error (training set): {:.3f}\".format(rmse_train))"
      ],
      "metadata": {
        "colab": {
          "base_uri": "https://localhost:8080/"
        },
        "id": "S2kKF86_B5TA",
        "outputId": "208fde00-e3ad-4b5c-bc2a-2d6589feb1a5"
      },
      "execution_count": 24,
      "outputs": [
        {
          "output_type": "stream",
          "name": "stdout",
          "text": [
            "Root Mean Squared Error (training set): 95.216\n"
          ]
        }
      ]
    },
    {
      "cell_type": "code",
      "source": [
        "# Question 23\n",
        "\n",
        "import pandas as pd\n",
        "import numpy as np\n",
        "from sklearn.model_selection import train_test_split\n",
        "from sklearn.preprocessing import MinMaxScaler\n",
        "from sklearn.linear_model import Ridge\n",
        "from sklearn.metrics import mean_squared_error\n",
        "\n",
        "\n",
        "# Load dataset\n",
        "df=pd.read_csv(r'/energydata_complete.csv')\n",
        "\n",
        "# Remove the specified columns\n",
        "drop_columns = [\"date\", \"lights\"]\n",
        "df = df.drop(columns=drop_columns)\n",
        "\n",
        "# split dataset into features and target\n",
        "features = df.drop(columns=[\"Appliances\"])\n",
        "target = df[\"Appliances\"]\n",
        "\n",
        "# Split the dataset into train and test sets\n",
        "X_train, X_test, y_train, y_test = train_test_split(features, target, test_size=0.3, random_state=42)\n",
        "\n",
        "# Normalize the dataset using MinMaxScaler\n",
        "scaler = MinMaxScaler()\n",
        "X_train_scaled = scaler.fit_transform(X_train)\n",
        "X_test_scaled = scaler.transform(X_test)\n",
        "\n",
        "# Train a Ridge regression model with default parameters\n",
        "ridge_model = Ridge()\n",
        "ridge_model.fit(X_train_scaled, y_train)\n",
        "\n",
        "# Predict on the test set\n",
        "y_test_pred_ridge = ridge_model.predict(X_test_scaled)\n",
        "\n",
        "# Calculate Root Mean Squared Error (RMSE) for the test set\n",
        "rmse_test_ridge = np.sqrt(mean_squared_error(y_test, y_test_pred_ridge))\n",
        "\n",
        "# Print the RMSE for the test set\n",
        "print(\"Root Mean Squared Error (test set) - Ridge Regression: {:.3f}\".format(rmse_test_ridge))"
      ],
      "metadata": {
        "colab": {
          "base_uri": "https://localhost:8080/"
        },
        "id": "uHU7cfX5B5U9",
        "outputId": "5ddcc3b1-90b9-430c-b0ea-c5de5e3cae23"
      },
      "execution_count": 25,
      "outputs": [
        {
          "output_type": "stream",
          "name": "stdout",
          "text": [
            "Root Mean Squared Error (test set) - Ridge Regression: 93.709\n"
          ]
        }
      ]
    },
    {
      "cell_type": "code",
      "source": [
        "#Question 24\n",
        "\n",
        "import pandas as pd\n",
        "import numpy as np\n",
        "from sklearn.model_selection import train_test_split\n",
        "from sklearn.preprocessing import MinMaxScaler\n",
        "from sklearn.linear_model import Lasso\n",
        "\n",
        "# Load  dataset\n",
        "df=pd.read_csv(r'/energydata_complete.csv')\n",
        "\n",
        "# Remove the specified columns\n",
        "drop_columns = [\"date\", \"lights\"]\n",
        "df = df.drop(columns=drop_columns)\n",
        "\n",
        "#split features  and target\n",
        "features = df.drop(columns=[\"Appliances\"])\n",
        "target = df[\"Appliances\"]\n",
        "\n",
        "# Split the dataset into training and testing sets\n",
        "X_train, X_test, y_train, y_test = train_test_split(features, target, test_size=0.3, random_state=42)\n",
        "\n",
        "# Normalize the dataset using MinMaxScaler\n",
        "scaler = MinMaxScaler()\n",
        "X_train_scaled = scaler.fit_transform(X_train)\n",
        "X_test_scaled = scaler.transform(X_test)\n",
        "\n",
        "# Train a Lasso regression model with default parameters\n",
        "lasso_model = Lasso()\n",
        "lasso_model.fit(X_train_scaled, y_train)\n",
        "\n",
        "# Obtain the feature weights\n",
        "feature_weights = lasso_model.coef_\n",
        "\n",
        "# Count the number of features with non-zero feature weights\n",
        "num_nonzero_features = sum(feature_weights != 0)\n",
        "\n",
        "# Print the number of features with non-zero feature weights\n",
        "print(\"Number of features with non-zero feature weights: \", num_nonzero_features)"
      ],
      "metadata": {
        "colab": {
          "base_uri": "https://localhost:8080/"
        },
        "id": "LTTSdLKRB5WU",
        "outputId": "ac63d8d2-12c1-4f63-bf33-14e7ac3bfc82"
      },
      "execution_count": 26,
      "outputs": [
        {
          "output_type": "stream",
          "name": "stdout",
          "text": [
            "Number of features with non-zero feature weights:  4\n"
          ]
        }
      ]
    },
    {
      "cell_type": "code",
      "source": [
        "#Question 25\n",
        "\n",
        "import pandas as pd\n",
        "import numpy as np\n",
        "from sklearn.model_selection import train_test_split\n",
        "from sklearn.preprocessing import MinMaxScaler\n",
        "from sklearn.linear_model import Lasso\n",
        "from sklearn.metrics import mean_squared_error\n",
        "\n",
        "\n",
        "# Load  dataset\n",
        "df=pd.read_csv(r'/energydata_complete.csv')\n",
        "\n",
        "# Remove the specified columns\n",
        "drop_columns = [\"date\", \"lights\"]\n",
        "df = df.drop(columns=drop_columns)\n",
        "\n",
        "# split feature and target\n",
        "features = df.drop(columns=[\"Appliances\"])\n",
        "target = df[\"Appliances\"]\n",
        "\n",
        "# Split the dataset into training and testing sets\n",
        "X_train, X_test, y_train, y_test = train_test_split(features, target, test_size=0.3, random_state=42)\n",
        "\n",
        "# Normalize the dataset using MinMaxScaler\n",
        "scaler = MinMaxScaler()\n",
        "X_train_scaled = scaler.fit_transform(X_train)\n",
        "X_test_scaled = scaler.transform(X_test)\n",
        "\n",
        "# Train a Lasso regression model with default parameters\n",
        "lasso_model = Lasso()\n",
        "lasso_model.fit(X_train_scaled, y_train)\n",
        "\n",
        "# Predict on the test set\n",
        "y_test_pred_lasso = lasso_model.predict(X_test_scaled)\n",
        "\n",
        "# Calculate Root Mean Squared Error (RMSE) for the test set\n",
        "rmse_test_lasso = np.sqrt(mean_squared_error(y_test, y_test_pred_lasso))\n",
        "\n",
        "# Print the RMSE for the test set\n",
        "print(\"Root Mean Squared Error (test set) - Lasso Regression: {:.3f}\".format(rmse_test_lasso))"
      ],
      "metadata": {
        "colab": {
          "base_uri": "https://localhost:8080/"
        },
        "id": "3j3zSnaVB5Zm",
        "outputId": "0ece0e7b-9aec-487f-f999-18bb6c55e7a8"
      },
      "execution_count": 27,
      "outputs": [
        {
          "output_type": "stream",
          "name": "stdout",
          "text": [
            "Root Mean Squared Error (test set) - Lasso Regression: 99.424\n"
          ]
        }
      ]
    },
    {
      "cell_type": "code",
      "source": [],
      "metadata": {
        "id": "8y2om_o8scur"
      },
      "execution_count": null,
      "outputs": []
    }
  ]
}